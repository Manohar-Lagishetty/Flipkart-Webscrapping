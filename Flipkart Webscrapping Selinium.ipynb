{
 "cells": [
  {
   "cell_type": "code",
   "execution_count": 1,
   "id": "7d1d68e9",
   "metadata": {},
   "outputs": [],
   "source": [
    "import pandas as pd\n",
    "import numpy as np \n",
    "import matplotlib.pyplot as plt\n",
    "import seaborn as sns\n",
    "import warnings\n",
    "warnings.filterwarnings('ignore')\n",
    "from selenium import webdriver\n",
    "import time\n",
    "from webdriver_manager.chrome import ChromeDriverManager"
   ]
  },
  {
   "cell_type": "code",
   "execution_count": 2,
   "id": "c3c64634",
   "metadata": {},
   "outputs": [],
   "source": [
    "DRIVER_PATH = \"C:\\chromedriver.exe\""
   ]
  },
  {
   "cell_type": "code",
   "execution_count": 3,
   "id": "6cc73214",
   "metadata": {},
   "outputs": [],
   "source": [
    "driver = webdriver.Chrome(executable_path=DRIVER_PATH)"
   ]
  },
  {
   "cell_type": "code",
   "execution_count": 4,
   "id": "826c3a4e",
   "metadata": {},
   "outputs": [],
   "source": [
    "driver.get(\"https://www.flipkart.com/\")\n",
    "driver.maximize_window()"
   ]
  },
  {
   "cell_type": "code",
   "execution_count": null,
   "id": "6532542a",
   "metadata": {},
   "outputs": [],
   "source": []
  },
  {
   "cell_type": "code",
   "execution_count": 5,
   "id": "3660e057",
   "metadata": {},
   "outputs": [],
   "source": [
    "try:\n",
    "    driver.find_element(\"xpath\",'//input[@class=\"_2IX_2- VJZDxU\"]').send_keys(\"7798483858\")\n",
    "    driver.find_element(\"xpath\",'//input[@class=\"_2IX_2- _3mctLh VJZDxU\"]').send_keys(\"S@idham\")\n",
    "    driver.find_element(\"xpath\",'//button[@class=\"_2KpZ6l _2HKlqd _3AWRsL\"]').click()\n",
    "except:\n",
    "    driver.find_element(\"xpath\",'//button[@class=\"_2KpZ6l _2doB4z\"]').click()"
   ]
  },
  {
   "cell_type": "code",
   "execution_count": 6,
   "id": "b20e6b72",
   "metadata": {},
   "outputs": [],
   "source": [
    "time.sleep(2)"
   ]
  },
  {
   "cell_type": "code",
   "execution_count": 7,
   "id": "36298837",
   "metadata": {},
   "outputs": [
    {
     "name": "stdout",
     "output_type": "stream",
     "text": [
      "Enter for what event you want productsrealme mobiles \n"
     ]
    }
   ],
   "source": [
    "Event = input(\"Enter for what event you want products :- \")\n",
    "driver.find_element(\"xpath\",'//input[@class=\"_3704LK\"]').send_keys(Event)\n",
    "driver.find_element(\"xpath\",'//button[@class=\"L0Z3Pu\"]').click()    \n",
    "    "
   ]
  },
  {
   "cell_type": "code",
   "execution_count": 9,
   "id": "ad2a8278",
   "metadata": {},
   "outputs": [
    {
     "name": "stdout",
     "output_type": "stream",
     "text": [
      "Scraping page 1\n",
      "Scraping page 2\n",
      "Scraping page 3\n",
      "Scraping page 4\n",
      "Scraping page 5\n",
      "Scraping page 6\n",
      "Scraping page 7\n",
      "Scraping page 8\n",
      "Scraping page 9\n",
      "Scraping page 10\n"
     ]
    }
   ],
   "source": [
    "products = []\n",
    "products_price = []\n",
    "ratings = []\n",
    "for i in range(10):\n",
    "    print('Scraping page',i+1)\n",
    "    product = driver.find_elements(\"xpath\",'//div[@class=\"_4rR01T\"]')\n",
    "    for p in product:\n",
    "        products.append(p.text)\n",
    "    product_price = driver.find_elements(\"xpath\",'//div[@class=\"_30jeq3 _1_WHN1\"]')\n",
    "    for r in product_price:\n",
    "        products_price.append(r.text)\n",
    "    rating = driver.find_elements(\"xpath\",'//div[@class=\"_3LWZlK\"]')\n",
    "    for a in rating:\n",
    "        ratings.append(a.text)\n",
    "        time.sleep(2)\n",
    "        driver.find_element(\"xpath\",'//a[@class=\"_1LKTO3\"]')\n",
    "    time.sleep(2)"
   ]
  },
  {
   "cell_type": "code",
   "execution_count": 10,
   "id": "631d69c2",
   "metadata": {},
   "outputs": [
    {
     "name": "stdout",
     "output_type": "stream",
     "text": [
      "216\n",
      "216\n"
     ]
    }
   ],
   "source": [
    "print(len(products))\n",
    "print(len(products_price))"
   ]
  },
  {
   "cell_type": "code",
   "execution_count": 12,
   "id": "428c40a1",
   "metadata": {},
   "outputs": [],
   "source": [
    "#coverting scrape into CSV\n",
    "dict = {\"Products\":products,\"Price\":products_price}\n",
    "df = pd.DataFrame(dict)\n",
    "df.to_csv(\"Flipcart.csv\")\n"
   ]
  },
  {
   "cell_type": "code",
   "execution_count": 13,
   "id": "fcb666a0",
   "metadata": {},
   "outputs": [
    {
     "data": {
      "text/html": [
       "<div>\n",
       "<style scoped>\n",
       "    .dataframe tbody tr th:only-of-type {\n",
       "        vertical-align: middle;\n",
       "    }\n",
       "\n",
       "    .dataframe tbody tr th {\n",
       "        vertical-align: top;\n",
       "    }\n",
       "\n",
       "    .dataframe thead th {\n",
       "        text-align: right;\n",
       "    }\n",
       "</style>\n",
       "<table border=\"1\" class=\"dataframe\">\n",
       "  <thead>\n",
       "    <tr style=\"text-align: right;\">\n",
       "      <th></th>\n",
       "      <th>Products</th>\n",
       "      <th>Price</th>\n",
       "    </tr>\n",
       "  </thead>\n",
       "  <tbody>\n",
       "    <tr>\n",
       "      <th>0</th>\n",
       "      <td>realme 9 5G (Stargaze White, 128 GB)</td>\n",
       "      <td>₹16,499</td>\n",
       "    </tr>\n",
       "    <tr>\n",
       "      <th>1</th>\n",
       "      <td>realme C31 (Dark Green, 64 GB)</td>\n",
       "      <td>₹8,999</td>\n",
       "    </tr>\n",
       "    <tr>\n",
       "      <th>2</th>\n",
       "      <td>realme 9 (Meteor Black, 128 GB)</td>\n",
       "      <td>₹15,599</td>\n",
       "    </tr>\n",
       "    <tr>\n",
       "      <th>3</th>\n",
       "      <td>realme 9 5G (Supersonic Blue, 64 GB)</td>\n",
       "      <td>₹14,999</td>\n",
       "    </tr>\n",
       "    <tr>\n",
       "      <th>4</th>\n",
       "      <td>realme 9 5G (Supersonic Blue, 128 GB)</td>\n",
       "      <td>₹16,499</td>\n",
       "    </tr>\n",
       "    <tr>\n",
       "      <th>...</th>\n",
       "      <td>...</td>\n",
       "      <td>...</td>\n",
       "    </tr>\n",
       "    <tr>\n",
       "      <th>211</th>\n",
       "      <td>realme 9i (Prism Blue, 128 GB)</td>\n",
       "      <td>₹13,599</td>\n",
       "    </tr>\n",
       "    <tr>\n",
       "      <th>212</th>\n",
       "      <td>realme 9i (Prism Black, 128 GB)</td>\n",
       "      <td>₹12,599</td>\n",
       "    </tr>\n",
       "    <tr>\n",
       "      <th>213</th>\n",
       "      <td>realme 9 (Stargaze White, 128 GB)</td>\n",
       "      <td>₹15,599</td>\n",
       "    </tr>\n",
       "    <tr>\n",
       "      <th>214</th>\n",
       "      <td>realme C30 (Lake Blue, 32 GB)</td>\n",
       "      <td>₹5,999</td>\n",
       "    </tr>\n",
       "    <tr>\n",
       "      <th>215</th>\n",
       "      <td>realme C35 (Glowing Black, 64 GB)</td>\n",
       "      <td>₹11,999</td>\n",
       "    </tr>\n",
       "  </tbody>\n",
       "</table>\n",
       "<p>216 rows × 2 columns</p>\n",
       "</div>"
      ],
      "text/plain": [
       "                                  Products    Price\n",
       "0     realme 9 5G (Stargaze White, 128 GB)  ₹16,499\n",
       "1           realme C31 (Dark Green, 64 GB)   ₹8,999\n",
       "2          realme 9 (Meteor Black, 128 GB)  ₹15,599\n",
       "3     realme 9 5G (Supersonic Blue, 64 GB)  ₹14,999\n",
       "4    realme 9 5G (Supersonic Blue, 128 GB)  ₹16,499\n",
       "..                                     ...      ...\n",
       "211         realme 9i (Prism Blue, 128 GB)  ₹13,599\n",
       "212        realme 9i (Prism Black, 128 GB)  ₹12,599\n",
       "213      realme 9 (Stargaze White, 128 GB)  ₹15,599\n",
       "214          realme C30 (Lake Blue, 32 GB)   ₹5,999\n",
       "215      realme C35 (Glowing Black, 64 GB)  ₹11,999\n",
       "\n",
       "[216 rows x 2 columns]"
      ]
     },
     "execution_count": 13,
     "metadata": {},
     "output_type": "execute_result"
    }
   ],
   "source": [
    "df"
   ]
  },
  {
   "cell_type": "code",
   "execution_count": null,
   "id": "f5852e08",
   "metadata": {},
   "outputs": [],
   "source": []
  },
  {
   "cell_type": "code",
   "execution_count": null,
   "id": "bc42f57d",
   "metadata": {},
   "outputs": [],
   "source": []
  },
  {
   "cell_type": "code",
   "execution_count": null,
   "id": "d433acea",
   "metadata": {},
   "outputs": [],
   "source": []
  },
  {
   "cell_type": "code",
   "execution_count": null,
   "id": "9eb58411",
   "metadata": {},
   "outputs": [],
   "source": [
    "\n"
   ]
  }
 ],
 "metadata": {
  "kernelspec": {
   "display_name": "Python 3 (ipykernel)",
   "language": "python",
   "name": "python3"
  },
  "language_info": {
   "codemirror_mode": {
    "name": "ipython",
    "version": 3
   },
   "file_extension": ".py",
   "mimetype": "text/x-python",
   "name": "python",
   "nbconvert_exporter": "python",
   "pygments_lexer": "ipython3",
   "version": "3.9.13"
  }
 },
 "nbformat": 4,
 "nbformat_minor": 5
}
